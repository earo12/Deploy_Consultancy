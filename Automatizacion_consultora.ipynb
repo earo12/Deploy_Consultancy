{
  "nbformat": 4,
  "nbformat_minor": 0,
  "metadata": {
    "colab": {
      "provenance": [],
      "authorship_tag": "ABX9TyMCsOWr2h1grLoBmiymhULu",
      "include_colab_link": true
    },
    "kernelspec": {
      "name": "python3",
      "display_name": "Python 3"
    },
    "language_info": {
      "name": "python"
    }
  },
  "cells": [
    {
      "cell_type": "markdown",
      "metadata": {
        "id": "view-in-github",
        "colab_type": "text"
      },
      "source": [
        "<a href=\"https://colab.research.google.com/github/earo12/Deploy_Consultancy/blob/dev-branch/Automatizacion_consultora.ipynb\" target=\"_parent\"><img src=\"https://colab.research.google.com/assets/colab-badge.svg\" alt=\"Open In Colab\"/></a>"
      ]
    },
    {
      "cell_type": "code",
      "source": [
        "from google.colab import files\n",
        "uploaded = files.upload()"
      ],
      "metadata": {
        "colab": {
          "base_uri": "https://localhost:8080/",
          "height": 73
        },
        "id": "FLjiUjmXgfvQ",
        "outputId": "a7982ffd-7a94-4db0-fa1d-f4d19989825b"
      },
      "execution_count": 19,
      "outputs": [
        {
          "output_type": "display_data",
          "data": {
            "text/plain": [
              "<IPython.core.display.HTML object>"
            ],
            "text/html": [
              "\n",
              "     <input type=\"file\" id=\"files-df63f880-5eb0-4ba8-944b-44b7bf73d1bb\" name=\"files[]\" multiple disabled\n",
              "        style=\"border:none\" />\n",
              "     <output id=\"result-df63f880-5eb0-4ba8-944b-44b7bf73d1bb\">\n",
              "      Upload widget is only available when the cell has been executed in the\n",
              "      current browser session. Please rerun this cell to enable.\n",
              "      </output>\n",
              "      <script>// Copyright 2017 Google LLC\n",
              "//\n",
              "// Licensed under the Apache License, Version 2.0 (the \"License\");\n",
              "// you may not use this file except in compliance with the License.\n",
              "// You may obtain a copy of the License at\n",
              "//\n",
              "//      http://www.apache.org/licenses/LICENSE-2.0\n",
              "//\n",
              "// Unless required by applicable law or agreed to in writing, software\n",
              "// distributed under the License is distributed on an \"AS IS\" BASIS,\n",
              "// WITHOUT WARRANTIES OR CONDITIONS OF ANY KIND, either express or implied.\n",
              "// See the License for the specific language governing permissions and\n",
              "// limitations under the License.\n",
              "\n",
              "/**\n",
              " * @fileoverview Helpers for google.colab Python module.\n",
              " */\n",
              "(function(scope) {\n",
              "function span(text, styleAttributes = {}) {\n",
              "  const element = document.createElement('span');\n",
              "  element.textContent = text;\n",
              "  for (const key of Object.keys(styleAttributes)) {\n",
              "    element.style[key] = styleAttributes[key];\n",
              "  }\n",
              "  return element;\n",
              "}\n",
              "\n",
              "// Max number of bytes which will be uploaded at a time.\n",
              "const MAX_PAYLOAD_SIZE = 100 * 1024;\n",
              "\n",
              "function _uploadFiles(inputId, outputId) {\n",
              "  const steps = uploadFilesStep(inputId, outputId);\n",
              "  const outputElement = document.getElementById(outputId);\n",
              "  // Cache steps on the outputElement to make it available for the next call\n",
              "  // to uploadFilesContinue from Python.\n",
              "  outputElement.steps = steps;\n",
              "\n",
              "  return _uploadFilesContinue(outputId);\n",
              "}\n",
              "\n",
              "// This is roughly an async generator (not supported in the browser yet),\n",
              "// where there are multiple asynchronous steps and the Python side is going\n",
              "// to poll for completion of each step.\n",
              "// This uses a Promise to block the python side on completion of each step,\n",
              "// then passes the result of the previous step as the input to the next step.\n",
              "function _uploadFilesContinue(outputId) {\n",
              "  const outputElement = document.getElementById(outputId);\n",
              "  const steps = outputElement.steps;\n",
              "\n",
              "  const next = steps.next(outputElement.lastPromiseValue);\n",
              "  return Promise.resolve(next.value.promise).then((value) => {\n",
              "    // Cache the last promise value to make it available to the next\n",
              "    // step of the generator.\n",
              "    outputElement.lastPromiseValue = value;\n",
              "    return next.value.response;\n",
              "  });\n",
              "}\n",
              "\n",
              "/**\n",
              " * Generator function which is called between each async step of the upload\n",
              " * process.\n",
              " * @param {string} inputId Element ID of the input file picker element.\n",
              " * @param {string} outputId Element ID of the output display.\n",
              " * @return {!Iterable<!Object>} Iterable of next steps.\n",
              " */\n",
              "function* uploadFilesStep(inputId, outputId) {\n",
              "  const inputElement = document.getElementById(inputId);\n",
              "  inputElement.disabled = false;\n",
              "\n",
              "  const outputElement = document.getElementById(outputId);\n",
              "  outputElement.innerHTML = '';\n",
              "\n",
              "  const pickedPromise = new Promise((resolve) => {\n",
              "    inputElement.addEventListener('change', (e) => {\n",
              "      resolve(e.target.files);\n",
              "    });\n",
              "  });\n",
              "\n",
              "  const cancel = document.createElement('button');\n",
              "  inputElement.parentElement.appendChild(cancel);\n",
              "  cancel.textContent = 'Cancel upload';\n",
              "  const cancelPromise = new Promise((resolve) => {\n",
              "    cancel.onclick = () => {\n",
              "      resolve(null);\n",
              "    };\n",
              "  });\n",
              "\n",
              "  // Wait for the user to pick the files.\n",
              "  const files = yield {\n",
              "    promise: Promise.race([pickedPromise, cancelPromise]),\n",
              "    response: {\n",
              "      action: 'starting',\n",
              "    }\n",
              "  };\n",
              "\n",
              "  cancel.remove();\n",
              "\n",
              "  // Disable the input element since further picks are not allowed.\n",
              "  inputElement.disabled = true;\n",
              "\n",
              "  if (!files) {\n",
              "    return {\n",
              "      response: {\n",
              "        action: 'complete',\n",
              "      }\n",
              "    };\n",
              "  }\n",
              "\n",
              "  for (const file of files) {\n",
              "    const li = document.createElement('li');\n",
              "    li.append(span(file.name, {fontWeight: 'bold'}));\n",
              "    li.append(span(\n",
              "        `(${file.type || 'n/a'}) - ${file.size} bytes, ` +\n",
              "        `last modified: ${\n",
              "            file.lastModifiedDate ? file.lastModifiedDate.toLocaleDateString() :\n",
              "                                    'n/a'} - `));\n",
              "    const percent = span('0% done');\n",
              "    li.appendChild(percent);\n",
              "\n",
              "    outputElement.appendChild(li);\n",
              "\n",
              "    const fileDataPromise = new Promise((resolve) => {\n",
              "      const reader = new FileReader();\n",
              "      reader.onload = (e) => {\n",
              "        resolve(e.target.result);\n",
              "      };\n",
              "      reader.readAsArrayBuffer(file);\n",
              "    });\n",
              "    // Wait for the data to be ready.\n",
              "    let fileData = yield {\n",
              "      promise: fileDataPromise,\n",
              "      response: {\n",
              "        action: 'continue',\n",
              "      }\n",
              "    };\n",
              "\n",
              "    // Use a chunked sending to avoid message size limits. See b/62115660.\n",
              "    let position = 0;\n",
              "    do {\n",
              "      const length = Math.min(fileData.byteLength - position, MAX_PAYLOAD_SIZE);\n",
              "      const chunk = new Uint8Array(fileData, position, length);\n",
              "      position += length;\n",
              "\n",
              "      const base64 = btoa(String.fromCharCode.apply(null, chunk));\n",
              "      yield {\n",
              "        response: {\n",
              "          action: 'append',\n",
              "          file: file.name,\n",
              "          data: base64,\n",
              "        },\n",
              "      };\n",
              "\n",
              "      let percentDone = fileData.byteLength === 0 ?\n",
              "          100 :\n",
              "          Math.round((position / fileData.byteLength) * 100);\n",
              "      percent.textContent = `${percentDone}% done`;\n",
              "\n",
              "    } while (position < fileData.byteLength);\n",
              "  }\n",
              "\n",
              "  // All done.\n",
              "  yield {\n",
              "    response: {\n",
              "      action: 'complete',\n",
              "    }\n",
              "  };\n",
              "}\n",
              "\n",
              "scope.google = scope.google || {};\n",
              "scope.google.colab = scope.google.colab || {};\n",
              "scope.google.colab._files = {\n",
              "  _uploadFiles,\n",
              "  _uploadFilesContinue,\n",
              "};\n",
              "})(self);\n",
              "</script> "
            ]
          },
          "metadata": {}
        },
        {
          "output_type": "stream",
          "name": "stdout",
          "text": [
            "Saving nuevos_datos_consultora.csv to nuevos_datos_consultora.csv\n"
          ]
        }
      ]
    },
    {
      "cell_type": "code",
      "source": [
        "!apt-get install openssh-client"
      ],
      "metadata": {
        "colab": {
          "base_uri": "https://localhost:8080/"
        },
        "id": "wPhr74dSh1NL",
        "outputId": "ad563c3f-7325-4c11-ed43-7f17c7e246fd"
      },
      "execution_count": 27,
      "outputs": [
        {
          "output_type": "stream",
          "name": "stdout",
          "text": [
            "Reading package lists... Done\n",
            "Building dependency tree... Done\n",
            "Reading state information... Done\n",
            "openssh-client is already the newest version (1:8.9p1-3ubuntu0.10).\n",
            "0 upgraded, 0 newly installed, 0 to remove and 49 not upgraded.\n"
          ]
        }
      ]
    },
    {
      "cell_type": "code",
      "source": [
        "!ssh -L 3306:localhost:3306 usuario@189.203.150.61"
      ],
      "metadata": {
        "id": "S-CR_pM-h5uv"
      },
      "execution_count": null,
      "outputs": []
    },
    {
      "cell_type": "code",
      "source": [
        "!pip install mysql-connector-python"
      ],
      "metadata": {
        "colab": {
          "base_uri": "https://localhost:8080/"
        },
        "id": "sHnNkpGBSSU1",
        "outputId": "88fc9fd2-5a56-4b34-f876-8bccc3c617fd"
      },
      "execution_count": 11,
      "outputs": [
        {
          "output_type": "stream",
          "name": "stdout",
          "text": [
            "Requirement already satisfied: mysql-connector-python in /usr/local/lib/python3.10/dist-packages (9.1.0)\n"
          ]
        }
      ]
    },
    {
      "cell_type": "code",
      "execution_count": 21,
      "metadata": {
        "id": "L3Ec4CyFkHVH"
      },
      "outputs": [],
      "source": [
        "import pandas as pd\n",
        "import mysql.connector\n",
        "from mysql.connector import Error"
      ]
    },
    {
      "cell_type": "code",
      "source": [
        "# Conexión a la BD:\n",
        "\n",
        "def connect_to_db():\n",
        "    try:\n",
        "        connection = mysql.connector.connect(\n",
        "            host='localhost',\n",
        "            user='root',\n",
        "            password='admin',\n",
        "            database='consultora_prueba'\n",
        "        )\n",
        "        if connection.is_connected():\n",
        "            return connection\n",
        "    except Error as e:\n",
        "        print(f\"Error al conectar con MySQL: {e}\")\n",
        "        return None\n"
      ],
      "metadata": {
        "id": "B0qU061CkI28"
      },
      "execution_count": 22,
      "outputs": []
    },
    {
      "cell_type": "code",
      "source": [
        "# Función para crear un INSERT o un UPDATE desde un csv\n",
        "\n",
        "def insert_or_update_data(df, connection):\n",
        "  cursor = connection.cursor()\n",
        "  query = \"\"\"\n",
        "              INSERT INTO datos_consultora (\n",
        "                id_consultor, apellidos, nombre, correo_electronico, telefono, estado_actual, fecha_inicio_estado_actual,\n",
        "                duracion_estado_actual, nombre_proyecto, rol_proyecto, fecha_inicio_asignacion, fecha_fin_asignacion,\n",
        "                duracion_dias_proyecto, fecha_ingreso_pool, comentarios_disponibildad, ultima_actualizacion_estado, responsable_seguimiento,\n",
        "                habilidades_principales, idiomas, ubicacion_actual\n",
        "              )\n",
        "\n",
        "              VALUES (\n",
        "                %s, %s, %s, %s, %s, %s, %s, %s, %s, %s, %s, %s, %s, %s, %s, %s, %s, %s, %s, %s\n",
        "              )\n",
        "\n",
        "              ON DUPLICATE KEY UPDATE\n",
        "              estado_actual = VALUES(estado_actual),\n",
        "              fecha_inicio_estado_actual = VALUES(fecha_inicio_estado_actual),\n",
        "              duracion_estado_actual = VALUES(duracion_estado_actual),\n",
        "              nombre_proyecto = VALUES(nombre_proyecto),\n",
        "              fecha_inicio_asignacion = VALUES(fecha_inicio_asignacion),\n",
        "              fecha_fin_asignacion = VALUES(fecha_fin_asignacion),\n",
        "              duracion_dias_proyecto = VALUES(duracion_dias_proyecto),\n",
        "              comentarios_disponibildad = VALUES(comentarios_disponibildad),\n",
        "              ultima_actualizacion_estado = VALUES(ultima_actualizacion_estado),\n",
        "          \"\"\"\n",
        "  for _, row in df.iterrows():\n",
        "      values = tuple(row)\n",
        "      cursor.execute(query, values)\n",
        "  connection.commit()\n",
        "  cursor.close()\n",
        "print(\"Tabla actualizada\")"
      ],
      "metadata": {
        "colab": {
          "base_uri": "https://localhost:8080/"
        },
        "id": "mWwJYu5xS8ZB",
        "outputId": "2ab39a77-cee4-443d-934d-a1e34ec14c87"
      },
      "execution_count": 23,
      "outputs": [
        {
          "output_type": "stream",
          "name": "stdout",
          "text": [
            "Tabla actualizada\n"
          ]
        }
      ]
    },
    {
      "cell_type": "code",
      "source": [
        "# Cargar datos desde el csv\n",
        "\n",
        "def load_data_csv(file_path):\n",
        "  try:\n",
        "    df = pd.read_csv(file_path)\n",
        "    return df\n",
        "  except Exception as e:\n",
        "    print(f\"Error al cargar el archivo CSV: {e}\")\n",
        "    return None"
      ],
      "metadata": {
        "id": "oojE_rONXWCY"
      },
      "execution_count": 24,
      "outputs": []
    },
    {
      "cell_type": "code",
      "source": [
        "# Flujo de datos:\n",
        "\n",
        "def main():\n",
        "  connection = connect_to_db()\n",
        "  if connection:\n",
        "    file_path = \"nuevos_datos_consultora.csv\"\n",
        "    df = load_data_csv(file_path)\n",
        "    if df is not None:\n",
        "      insert_or_update_data(df, connection)\n",
        "    connection.close()\n",
        "    print(\"Conexión cerrada\")"
      ],
      "metadata": {
        "id": "C4BR9facbVA4"
      },
      "execution_count": 25,
      "outputs": []
    },
    {
      "cell_type": "code",
      "source": [
        "if __name__ == \"__main__\":\n",
        "    main()"
      ],
      "metadata": {
        "colab": {
          "base_uri": "https://localhost:8080/"
        },
        "id": "iLrDH5M1bn6_",
        "outputId": "f1c7b8eb-ede0-44e0-80ab-c7d0ba0c05b1"
      },
      "execution_count": 26,
      "outputs": [
        {
          "output_type": "stream",
          "name": "stdout",
          "text": [
            "Error al conectar con MySQL: 2003: Can't connect to MySQL server on 'localhost:3306' (Errno 111: Connection refused)\n"
          ]
        }
      ]
    },
    {
      "cell_type": "code",
      "source": [],
      "metadata": {
        "id": "6OMa-24pgxZw"
      },
      "execution_count": null,
      "outputs": []
    }
  ]
}