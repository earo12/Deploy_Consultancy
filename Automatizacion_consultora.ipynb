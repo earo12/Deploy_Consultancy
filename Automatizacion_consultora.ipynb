{
  "nbformat": 4,
  "nbformat_minor": 0,
  "metadata": {
    "colab": {
      "provenance": [],
      "authorship_tag": "ABX9TyP+C2xv3OCP1a4s2BFPyDwB",
      "include_colab_link": true
    },
    "kernelspec": {
      "name": "python3",
      "display_name": "Python 3"
    },
    "language_info": {
      "name": "python"
    }
  },
  "cells": [
    {
      "cell_type": "markdown",
      "metadata": {
        "id": "view-in-github",
        "colab_type": "text"
      },
      "source": [
        "<a href=\"https://colab.research.google.com/github/earo12/Deploy_Consultancy/blob/dev-branch/Automatizacion_consultora.ipynb\" target=\"_parent\"><img src=\"https://colab.research.google.com/assets/colab-badge.svg\" alt=\"Open In Colab\"/></a>"
      ]
    },
    {
      "cell_type": "code",
      "source": [
        "!pip install mysql-connector-python"
      ],
      "metadata": {
        "colab": {
          "base_uri": "https://localhost:8080/"
        },
        "id": "sHnNkpGBSSU1",
        "outputId": "3a9cbd7f-e4fd-44f4-c227-8086845ddd22"
      },
      "execution_count": 2,
      "outputs": [
        {
          "output_type": "stream",
          "name": "stdout",
          "text": [
            "Collecting mysql-connector-python\n",
            "  Downloading mysql_connector_python-9.1.0-cp310-cp310-manylinux_2_28_x86_64.whl.metadata (6.0 kB)\n",
            "Downloading mysql_connector_python-9.1.0-cp310-cp310-manylinux_2_28_x86_64.whl (34.4 MB)\n",
            "\u001b[2K   \u001b[90m━━━━━━━━━━━━━━━━━━━━━━━━━━━━━━━━━━━━━━━━\u001b[0m \u001b[32m34.4/34.4 MB\u001b[0m \u001b[31m32.9 MB/s\u001b[0m eta \u001b[36m0:00:00\u001b[0m\n",
            "\u001b[?25hInstalling collected packages: mysql-connector-python\n",
            "Successfully installed mysql-connector-python-9.1.0\n"
          ]
        }
      ]
    },
    {
      "cell_type": "code",
      "execution_count": 3,
      "metadata": {
        "id": "L3Ec4CyFkHVH"
      },
      "outputs": [],
      "source": [
        "import pandas as pd\n",
        "import mysql.connector\n",
        "from mysql.connector import Error"
      ]
    },
    {
      "cell_type": "code",
      "source": [
        "# Conexión a la BD:\n",
        "\n",
        "def connect_to_db():\n",
        "    try:\n",
        "        connection = mysql.connector.connect(\n",
        "            host='localhost',\n",
        "            user='root',\n",
        "            password='admin',\n",
        "            database='consultora_prueba'\n",
        "        )\n",
        "        if connection.is_connected():\n",
        "            return connection\n",
        "    except Error as e:\n",
        "        print(f\"Error al conectar con MySQL: {e}\")\n",
        "        return None\n"
      ],
      "metadata": {
        "id": "B0qU061CkI28"
      },
      "execution_count": 4,
      "outputs": []
    },
    {
      "cell_type": "code",
      "source": [
        "# Función para crear un INSERT o un UPDATE desde un csv\n",
        "\n",
        "def insert_or_update_data(df, connection):\n",
        "  cursor = connection.cursor()\n",
        "  query = \"\"\"\n",
        "              INSERT INTO datos_consultora (\n",
        "                id_consultor, apellidos, nombre, correo_electronico, telefono, estado_actual, fecha_inicio_estado_actual,\n",
        "                duracion_estado_actual, nombre_proyecto, rol_proyecto, fecha_inicio_asignacion, fecha_fin_asignacion,\n",
        "                duracion_dias_proyecto, fecha_ingreso_pool, comentarios_disponibildad, ultima_actualizacion_estado, responsable_seguimiento,\n",
        "                habilidades_principales, idiomas, ubicacion_actual\n",
        "              )\n",
        "\n",
        "              VALUES (\n",
        "                %s, %s, %s, %s, %s, %s, %s, %s, %s, %s, %s, %s, %s, %s, %s, %s, %s, %s, %s, %s\n",
        "              )\n",
        "\n",
        "              ON DUPLICATE KEY UPDATE\n",
        "              estado_actual = VALUES(estado_actual),\n",
        "              fecha_inicio_estado_actual = VALUES(fecha_inicio_estado_actual),\n",
        "              duracion_estado_actual = VALUES(duracion_estado_actual),\n",
        "              nombre_proyecto = VALUES(nombre_proyecto),\n",
        "              fecha_inicio_asignacion = VALUES(fecha_inicio_asignacion),\n",
        "              fecha_fin_asignacion = VALUES(fecha_fin_asignacion),\n",
        "              duracion_dias_proyecto = VALUES(duracion_dias_proyecto),\n",
        "              comentarios_disponibildad = VALUES(comentarios_disponibildad),\n",
        "              ultima_actualizacion_estado = VALUES(ultima_actualizacion_estado),\n",
        "          \"\"\"\n",
        "  for _, row in df.iterrows():\n",
        "      values = tuple(row)\n",
        "      cursor.execute(query, values)\n",
        "  connection.commit()\n",
        "  cursor.close()\n",
        "print(\"Tabla actualizada\")"
      ],
      "metadata": {
        "colab": {
          "base_uri": "https://localhost:8080/"
        },
        "id": "mWwJYu5xS8ZB",
        "outputId": "caf04de7-d80a-4d66-894a-6a37237770f6"
      },
      "execution_count": 6,
      "outputs": [
        {
          "output_type": "stream",
          "name": "stdout",
          "text": [
            "Tabla actualizada\n"
          ]
        }
      ]
    },
    {
      "cell_type": "code",
      "source": [
        "# Cargar datos desde el csv\n",
        "\n",
        "def load_data_csv(file_path):\n",
        "  try:\n",
        "    df = pd.read_csv(file_path)\n",
        "    return df\n",
        "  except Exception as e:\n",
        "    print(f\"Error al cargar el archivo CSV: {e}\")\n",
        "    return None"
      ],
      "metadata": {
        "id": "oojE_rONXWCY"
      },
      "execution_count": 8,
      "outputs": []
    },
    {
      "cell_type": "code",
      "source": [
        "# Flujo de datos:\n",
        "\n",
        "def main():\n",
        "  connection = connect_to_db()\n",
        "  if connection:\n",
        "    file_path = 'datos_consultora.csv'\n",
        "    df = load_data_csv(file_path)\n",
        "    if df is not None:\n",
        "      insert_or_update_data(df, connection)\n",
        "      connection.close()\n",
        "      print(\"Conexión cerrada\")"
      ],
      "metadata": {
        "id": "C4BR9facbVA4"
      },
      "execution_count": 9,
      "outputs": []
    },
    {
      "cell_type": "code",
      "source": [],
      "metadata": {
        "id": "iLrDH5M1bn6_"
      },
      "execution_count": null,
      "outputs": []
    }
  ]
}